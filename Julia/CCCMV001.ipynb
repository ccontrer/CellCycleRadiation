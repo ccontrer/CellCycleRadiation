{
 "cells": [
  {
   "cell_type": "markdown",
   "metadata": {},
   "source": [
    "# Cell cycle model CCCMV001\n",
    "\n",
    "**Cell cycle model (variable mass) for mammalians ver. 001**"
   ]
  },
  {
   "cell_type": "markdown",
   "metadata": {},
   "source": [
    "Packages"
   ]
  },
  {
   "cell_type": "code",
   "execution_count": 30,
   "metadata": {},
   "outputs": [],
   "source": [
    "using OrdinaryDiffEq, ParameterizedFunctions, NamedTuples\n",
    "using PyDSTool, PyCall, PyPlot\n",
    "using JLD"
   ]
  },
  {
   "cell_type": "code",
   "execution_count": 25,
   "metadata": {},
   "outputs": [],
   "source": [
    "include(\"custom_functions.jl\");\n",
    "include(\"plot_functions.jl\");"
   ]
  },
  {
   "cell_type": "code",
   "execution_count": 26,
   "metadata": {},
   "outputs": [
    {
     "data": {
      "text/plain": [
       "2-element Array{Symbol,1}:\n",
       " :curve_lcycle\n",
       " :curve_stst  "
      ]
     },
     "execution_count": 26,
     "metadata": {},
     "output_type": "execute_result"
    }
   ],
   "source": [
    "@load \"CCCMV001_data.jld\""
   ]
  },
  {
   "cell_type": "markdown",
   "metadata": {},
   "source": [
    "### Model system of ODE's"
   ]
  },
  {
   "cell_type": "markdown",
   "metadata": {},
   "source": [
    "Model function"
   ]
  },
  {
   "cell_type": "code",
   "execution_count": 27,
   "metadata": {},
   "outputs": [
    {
     "ename": "LoadError",
     "evalue": "\u001b[91mUndefVarError: @ode_def_bare not defined\u001b[39m",
     "output_type": "error",
     "traceback": [
      "\u001b[91mUndefVarError: @ode_def_bare not defined\u001b[39m",
      "",
      "Stacktrace:",
      " [1] \u001b[1minclude_string\u001b[22m\u001b[22m\u001b[1m(\u001b[22m\u001b[22m::String, ::String\u001b[1m)\u001b[22m\u001b[22m at \u001b[1m./loading.jl:522\u001b[22m\u001b[22m"
     ]
    }
   ],
   "source": [
    "f = @ode_def_bare CCMMV001 begin\n",
    "    ## System of ODE (vector field)\n",
    "    dMPF     = k_m0*Mass - (k_m2 + k_m2a*Wee1)*MPF + (k_m1 + k_m1a*Cdc25_P)*MPF_P - (k_m3 + k_m3a*APC_A)*MPF\n",
    "    dMPF_P   = (k_m2 + k_m2a*Wee1)*MPF - (k_m1 + k_m1a*Cdc25_P)*MPF_P - (k_m3 + k_m3a*APC_A)*MPF_P\n",
    "    dWee1    = V_w1*(Wee1_T - Wee1)/(J_w1 + Wee1_T - Wee1) - k_w2*(MPF + MPF_P*α)*Wee1/(J_w2 + Wee1)\n",
    "    dCdc25_P = k_c1*(MPF + MPF_P*α)*(Cdc25_T - Cdc25_P)/(J_c1 + Cdc25_T - Cdc25_P) - V_c2*Cdc25_P/(J_c2 + Cdc25_P)\n",
    "    dIE_A    = k_i1*(MPF + MPF_P*α)*(IE_T - IE_A)/(J_i1 + IE_T - IE_A) - V_i2*IE_A/(J_i2 + IE_A)\n",
    "    dAPC_A   = k_a1*IE_A*(APC_T - APC_A)/(J_a1 + APC_T - APC_A) - V_a2*APC_A/(J_a2 + APC_A)\n",
    "    dMass    = μ*Mass*(1 - Mass/K_Mass)\n",
    "end k_m0=>0.2 k_m1=0.4 k_m1a=20.0 k_m2=0.4 k_m2a=50.0 k_m3=0.2 k_m3a=6.35 V_w1=1.0 k_w2=5.3 J_w1=0.01 J_w2=0.01 k_c1=8.5 V_c2=>1.4 k_c2a=2.2 J_c1=0.01 J_c2=0.01 k_i1=1.7 V_i2=0.4 J_i1=0.001 J_i2=0.001 k_a1=6.8 V_a2=1.7 J_a1=0.001 J_a2=0.001 α=0.05 μ=0.07 K_Mass=2.7 Wee1_T=1.0 Cdc25_T=1.0 IE_T=1.0 APC_T=1.0 Chk2_T=1.0 theta_M=>0.2"
   ]
  },
  {
   "cell_type": "markdown",
   "metadata": {},
   "source": [
    "Cell division events"
   ]
  },
  {
   "cell_type": "code",
   "execution_count": 28,
   "metadata": {},
   "outputs": [
    {
     "data": {
      "text/plain": [
       "DiffEqBase.ContinuousCallback{#division,Void,#division_event!,DiffEqBase.#INITIALIZE_DEFAULT,Float64,Int64,Void}(division, nothing, division_event!, DiffEqBase.INITIALIZE_DEFAULT, nothing, true, 10, (true, false), 1.0e-9, 0)"
      ]
     },
     "execution_count": 28,
     "metadata": {},
     "output_type": "execute_result"
    }
   ],
   "source": [
    "function division(t,u,integrator)\n",
    "    ## Parameters\n",
    "    ## Set of condition: MPF crosses threshold from positive to negative\n",
    "    u[1] - f.theta_M\n",
    "end # ModelCond\n",
    "\n",
    "function division_event!(integrator)\n",
    "    # Divide mass in two\n",
    "    integrator.u[7] = integrator.u[7]/2\n",
    "end # ModelEvent!\n",
    "\n",
    "cb = ContinuousCallback(division, nothing, division_event!, save_positions=(true,false))"
   ]
  },
  {
   "cell_type": "markdown",
   "metadata": {},
   "source": [
    "### Important solutions"
   ]
  },
  {
   "cell_type": "markdown",
   "metadata": {},
   "source": [
    "**Cell cycle**. Initial conditions and parameter options for normal cell cycle."
   ]
  },
  {
   "cell_type": "code",
   "execution_count": 29,
   "metadata": {},
   "outputs": [
    {
     "ename": "LoadError",
     "evalue": "\u001b[91mUndefVarError: f not defined\u001b[39m",
     "output_type": "error",
     "traceback": [
      "\u001b[91mUndefVarError: f not defined\u001b[39m",
      "",
      "Stacktrace:",
      " [1] \u001b[1minclude_string\u001b[22m\u001b[22m\u001b[1m(\u001b[22m\u001b[22m::String, ::String\u001b[1m)\u001b[22m\u001b[22m at \u001b[1m./loading.jl:522\u001b[22m\u001b[22m"
     ]
    }
   ],
   "source": [
    "f.V_c2 = 1.4\n",
    "u0 = [0.039,      # MPF\n",
    "      1.660,      # MPF_P\n",
    "      0.982,      # Wee1\n",
    "      0.027,      # Cdc25_P\n",
    "      0.001,      # IE_A\n",
    "      0.000,      # APC_A\n",
    "      1.938]      # Mass\n",
    "tspan = (0.0, 28.0)\n",
    "dtmax = 0.001\n",
    "alg = Rosenbrock23()\n",
    "prob = ODEProblem(f, u0, tspan)\n",
    "sol = solve(prob, alg, callback=cb; (:dtmax, dtmax))\n",
    "sol.errors"
   ]
  },
  {
   "cell_type": "code",
   "execution_count": 7,
   "metadata": {},
   "outputs": [
    {
     "ename": "LoadError",
     "evalue": "\u001b[91mUndefVarError: sol not defined\u001b[39m",
     "output_type": "error",
     "traceback": [
      "\u001b[91mUndefVarError: sol not defined\u001b[39m",
      "",
      "Stacktrace:",
      " [1] \u001b[1minclude_string\u001b[22m\u001b[22m\u001b[1m(\u001b[22m\u001b[22m::String, ::String\u001b[1m)\u001b[22m\u001b[22m at \u001b[1m./loading.jl:522\u001b[22m\u001b[22m"
     ]
    }
   ],
   "source": [
    "sol"
   ]
  },
  {
   "cell_type": "code",
   "execution_count": null,
   "metadata": {
    "collapsed": true
   },
   "outputs": [],
   "source": []
  },
  {
   "cell_type": "code",
   "execution_count": null,
   "metadata": {
    "collapsed": true
   },
   "outputs": [],
   "source": []
  },
  {
   "cell_type": "code",
   "execution_count": null,
   "metadata": {
    "collapsed": true
   },
   "outputs": [],
   "source": []
  },
  {
   "cell_type": "code",
   "execution_count": null,
   "metadata": {
    "collapsed": true
   },
   "outputs": [],
   "source": []
  },
  {
   "cell_type": "code",
   "execution_count": null,
   "metadata": {
    "collapsed": true
   },
   "outputs": [],
   "source": []
  },
  {
   "cell_type": "code",
   "execution_count": 8,
   "metadata": {},
   "outputs": [
    {
     "ename": "LoadError",
     "evalue": "\u001b[91mUndefVarError: plot not defined\u001b[39m",
     "output_type": "error",
     "traceback": [
      "\u001b[91mUndefVarError: plot not defined\u001b[39m",
      "",
      "Stacktrace:",
      " [1] \u001b[1minclude_string\u001b[22m\u001b[22m\u001b[1m(\u001b[22m\u001b[22m::String, ::String\u001b[1m)\u001b[22m\u001b[22m at \u001b[1m./loading.jl:522\u001b[22m\u001b[22m"
     ]
    }
   ],
   "source": [
    "plot(sol.t, sol.u, lw=2)\n",
    "legend(labels=[\"MPF\",\"MPF_P\"])"
   ]
  },
  {
   "cell_type": "markdown",
   "metadata": {
    "collapsed": true
   },
   "source": [
    "**Steady state**. Changing $V_{c2}$ to 4.0. This moves the dynamics to checkpoint, i.e., steady state solution."
   ]
  },
  {
   "cell_type": "code",
   "execution_count": 9,
   "metadata": {},
   "outputs": [
    {
     "ename": "LoadError",
     "evalue": "\u001b[91mUndefVarError: f not defined\u001b[39m",
     "output_type": "error",
     "traceback": [
      "\u001b[91mUndefVarError: f not defined\u001b[39m",
      "",
      "Stacktrace:",
      " [1] \u001b[1minclude_string\u001b[22m\u001b[22m\u001b[1m(\u001b[22m\u001b[22m::String, ::String\u001b[1m)\u001b[22m\u001b[22m at \u001b[1m./loading.jl:522\u001b[22m\u001b[22m"
     ]
    }
   ],
   "source": [
    "f.V_c2 = 4.0\n",
    "u0 = [0.042,      # MPF\n",
    "      2.656,      # MPF_P\n",
    "      0.886,      # Wee1\n",
    "      0.005,      # Cdc25_P\n",
    "      0.002,      # IE_A\n",
    "      0.000,      # APC_A\n",
    "      2.699]      # Mass\n",
    "tspan=(0.0, 20.0)\n",
    "prob = ODEProblem(f, u0, tspan)\n",
    "dtmax = 0.1\n",
    "sol = solve(prob, alg, callback=cb; (:dtmax, dtmax))\n",
    "sol.errors"
   ]
  },
  {
   "cell_type": "code",
   "execution_count": 10,
   "metadata": {},
   "outputs": [
    {
     "ename": "LoadError",
     "evalue": "\u001b[91mUndefVarError: plot not defined\u001b[39m",
     "output_type": "error",
     "traceback": [
      "\u001b[91mUndefVarError: plot not defined\u001b[39m",
      "",
      "Stacktrace:",
      " [1] \u001b[1minclude_string\u001b[22m\u001b[22m\u001b[1m(\u001b[22m\u001b[22m::String, ::String\u001b[1m)\u001b[22m\u001b[22m at \u001b[1m./loading.jl:522\u001b[22m\u001b[22m"
     ]
    }
   ],
   "source": [
    "plot(sol.t, sol.u, lw=2)\n",
    "legend(labels=[\"MPF\",\"MPF_P\"])"
   ]
  },
  {
   "cell_type": "markdown",
   "metadata": {},
   "source": [
    "Value of solution at the stady state for $V_{c2}$"
   ]
  },
  {
   "cell_type": "code",
   "execution_count": 11,
   "metadata": {},
   "outputs": [
    {
     "ename": "LoadError",
     "evalue": "\u001b[91mUndefVarError: sol not defined\u001b[39m",
     "output_type": "error",
     "traceback": [
      "\u001b[91mUndefVarError: sol not defined\u001b[39m",
      "",
      "Stacktrace:",
      " [1] \u001b[1minclude_string\u001b[22m\u001b[22m\u001b[1m(\u001b[22m\u001b[22m::String, ::String\u001b[1m)\u001b[22m\u001b[22m at \u001b[1m./loading.jl:522\u001b[22m\u001b[22m"
     ]
    }
   ],
   "source": [
    "sol.u[end]"
   ]
  },
  {
   "cell_type": "markdown",
   "metadata": {},
   "source": [
    "### Find limit cycle"
   ]
  },
  {
   "cell_type": "markdown",
   "metadata": {},
   "source": [
    "Functions"
   ]
  },
  {
   "cell_type": "code",
   "execution_count": 12,
   "metadata": {},
   "outputs": [
    {
     "data": {
      "text/plain": [
       "find_cell_cycle (generic function with 1 method)"
      ]
     },
     "execution_count": 12,
     "metadata": {},
     "output_type": "execute_result"
    }
   ],
   "source": [
    "function find_cell_cycle(f, u0, tspan; alg=Rosenbrock23(), kwargs...)\n",
    "    function division_stop!(integrator)\n",
    "        integrator.u[7] = integrator.u[7]/2\n",
    "        terminate!(integrator)\n",
    "    end\n",
    "    cb_start = ContinuousCallback(division, nothing, division_stop!)\n",
    "    # Integrate until first division\n",
    "    # NOTE: assert tspan is larger than needed\n",
    "    prob = ODEProblem(f, u0, tspan)\n",
    "    sol = solve(prob, alg, callback=cb_start; kwargs...)\n",
    "    # One full cycle\n",
    "    u0_start = sol.u[end]\n",
    "    prob = ODEProblem(f, u0_start, tspan)\n",
    "    sol = solve(prob, alg, callback=cb_start; kwargs...)\n",
    "    # Done\n",
    "    sol\n",
    "end #function find_cell_cycle"
   ]
  },
  {
   "cell_type": "markdown",
   "metadata": {},
   "source": [
    "A full limit cycle starts and finishes on cell division (when MPF concentration drops bellow 0.2)."
   ]
  },
  {
   "cell_type": "code",
   "execution_count": 13,
   "metadata": {},
   "outputs": [
    {
     "ename": "LoadError",
     "evalue": "\u001b[91mUndefVarError: f not defined\u001b[39m",
     "output_type": "error",
     "traceback": [
      "\u001b[91mUndefVarError: f not defined\u001b[39m",
      "",
      "Stacktrace:",
      " [1] \u001b[1minclude_string\u001b[22m\u001b[22m\u001b[1m(\u001b[22m\u001b[22m::String, ::String\u001b[1m)\u001b[22m\u001b[22m at \u001b[1m./loading.jl:522\u001b[22m\u001b[22m"
     ]
    }
   ],
   "source": [
    "f.V_c2 = 1.6\n",
    "u0 = [0.039,      # MPF\n",
    "      1.660,      # MPF_P\n",
    "      0.982,      # Wee1\n",
    "      0.027,      # Cdc25_P\n",
    "      0.001,      # IE_A\n",
    "      0.000,      # APC_A\n",
    "      1.938]      # Mass\n",
    "tspan = (0.0, 28.0)\n",
    "dtmax = 0.001\n",
    "sol = find_cell_cycle(f, u0, tspan; (:dtmax, dtmax))\n",
    "cycle = sol\n",
    "sol.errors"
   ]
  },
  {
   "cell_type": "code",
   "execution_count": 14,
   "metadata": {},
   "outputs": [
    {
     "ename": "LoadError",
     "evalue": "\u001b[91mUndefVarError: plot not defined\u001b[39m",
     "output_type": "error",
     "traceback": [
      "\u001b[91mUndefVarError: plot not defined\u001b[39m",
      "",
      "Stacktrace:",
      " [1] \u001b[1minclude_string\u001b[22m\u001b[22m\u001b[1m(\u001b[22m\u001b[22m::String, ::String\u001b[1m)\u001b[22m\u001b[22m at \u001b[1m./loading.jl:522\u001b[22m\u001b[22m"
     ]
    }
   ],
   "source": [
    "plot(sol.t, sol.u, lw=2)"
   ]
  },
  {
   "cell_type": "markdown",
   "metadata": {},
   "source": [
    "Period"
   ]
  },
  {
   "cell_type": "code",
   "execution_count": 15,
   "metadata": {},
   "outputs": [
    {
     "ename": "LoadError",
     "evalue": "\u001b[91mUndefVarError: sol not defined\u001b[39m",
     "output_type": "error",
     "traceback": [
      "\u001b[91mUndefVarError: sol not defined\u001b[39m",
      "",
      "Stacktrace:",
      " [1] \u001b[1minclude_string\u001b[22m\u001b[22m\u001b[1m(\u001b[22m\u001b[22m::String, ::String\u001b[1m)\u001b[22m\u001b[22m at \u001b[1m./loading.jl:522\u001b[22m\u001b[22m"
     ]
    }
   ],
   "source": [
    "sol.t[end]-sol.t[1]"
   ]
  },
  {
   "cell_type": "code",
   "execution_count": null,
   "metadata": {
    "collapsed": true
   },
   "outputs": [],
   "source": []
  },
  {
   "cell_type": "markdown",
   "metadata": {},
   "source": [
    "## Bifurcation"
   ]
  },
  {
   "cell_type": "markdown",
   "metadata": {},
   "source": [
    "**Stable node and saddle point (saddle-node branch of the SNIC)**"
   ]
  },
  {
   "cell_type": "code",
   "execution_count": 16,
   "metadata": {},
   "outputs": [
    {
     "ename": "LoadError",
     "evalue": "\u001b[91mUndefVarError: build_ode not defined\u001b[39m",
     "output_type": "error",
     "traceback": [
      "\u001b[91mUndefVarError: build_ode not defined\u001b[39m",
      "",
      "Stacktrace:",
      " [1] \u001b[1minclude_string\u001b[22m\u001b[22m\u001b[1m(\u001b[22m\u001b[22m::String, ::String\u001b[1m)\u001b[22m\u001b[22m at \u001b[1m./loading.jl:522\u001b[22m\u001b[22m"
     ]
    }
   ],
   "source": [
    "u0 = [0.0425188,\n",
    "      2.65499,\n",
    "      0.887348,\n",
    "      0.00584123,\n",
    "      0.00290841,\n",
    "      1.17587e-5,\n",
    "      2.69903]\n",
    "tspan = [0, 40]\n",
    "dsargs = build_ode(f,u0,tspan)\n",
    "dsargs[:pdomain] = Dict(\"V_c2\"=>[0, 6])\n",
    "ode = ds[:Generator][:Vode_ODEsystem](dsargs)\n",
    "ode[:set](pars = Dict(\"V_c2\"=>4.0))\n",
    "PC = ds[:ContClass](ode)"
   ]
  },
  {
   "cell_type": "code",
   "execution_count": 17,
   "metadata": {},
   "outputs": [
    {
     "ename": "LoadError",
     "evalue": "\u001b[91mUndefVarError: ds not defined\u001b[39m",
     "output_type": "error",
     "traceback": [
      "\u001b[91mUndefVarError: ds not defined\u001b[39m",
      "",
      "Stacktrace:",
      " [1] \u001b[1minclude_string\u001b[22m\u001b[22m\u001b[1m(\u001b[22m\u001b[22m::String, ::String\u001b[1m)\u001b[22m\u001b[22m at \u001b[1m./loading.jl:522\u001b[22m\u001b[22m"
     ]
    }
   ],
   "source": [
    "name1 = \"EQ1\"\n",
    "PCargs = ds[:args](name = name1)\n",
    "PCargs[:type] = \"EP-C\"\n",
    "PCargs[:freepars] = [\"V_c2\"]\n",
    "PCargs[:MaxNumPoints] = 100\n",
    "PCargs[:MaxStepSize] = 1e-0\n",
    "PCargs[:MinStepSize] = 1e-5\n",
    "PCargs[:StepSize] = 1e-2\n",
    "PCargs[:LocBifPoints] = \"all\"\n",
    "PCargs[:SaveEigen] = true\n",
    "PCargs[:verbosity] = 2\n",
    "PCargs[:StopAtPoints] = [\"B\"]\n",
    "PC[:newCurve](PCargs)"
   ]
  },
  {
   "cell_type": "code",
   "execution_count": 18,
   "metadata": {},
   "outputs": [],
   "source": [
    "# Commented to save computation, load \"CCCMV001_data.jld\"\n",
    "#PC[:curves][name1][:backward]()\n",
    "#PC[:curves][name1][:forward]()\n",
    "#curve_stst = bifurcation_curve_ccc(PC, \"EQ1\");"
   ]
  },
  {
   "cell_type": "code",
   "execution_count": null,
   "metadata": {
    "collapsed": true
   },
   "outputs": [],
   "source": []
  },
  {
   "cell_type": "code",
   "execution_count": null,
   "metadata": {
    "collapsed": true
   },
   "outputs": [],
   "source": []
  },
  {
   "cell_type": "markdown",
   "metadata": {},
   "source": [
    "**Limit cycle (oscilatory part of the SNIC)**"
   ]
  },
  {
   "cell_type": "markdown",
   "metadata": {},
   "source": [
    "Now we follow the limit cycle"
   ]
  },
  {
   "cell_type": "code",
   "execution_count": 19,
   "metadata": {},
   "outputs": [
    {
     "data": {
      "text/plain": [
       "follow_limit_cycle (generic function with 1 method)"
      ]
     },
     "execution_count": 19,
     "metadata": {},
     "output_type": "execute_result"
    }
   ],
   "source": [
    "function follow_limit_cycle(initcycle, pdomain, stepsize; kwargs...)\n",
    "    cycle = deepcopy(initcycle)\n",
    "    f = cycle.prob.f\n",
    "    # Start\n",
    "    minmax = extrema(cycle[1, :])\n",
    "    T = cycle.t[end] - cycle.t[1]\n",
    "    out = [[f.V_c2, minmax[1], minmax[2], T]]\n",
    "    # Forward\n",
    "    while (f.V_c2 < (pdomain[2] - stepsize))\n",
    "        f.V_c2 += stepsize\n",
    "        u0 = cycle.u[end]\n",
    "        tspan = (0.0, 1.3*T)\n",
    "        cycle = find_cell_cycle(f, u0, tspan; kwargs...)\n",
    "        minmax = extrema(cycle[1, :])\n",
    "        T = cycle.t[end] - cycle.t[1]\n",
    "        push!(out, [f.V_c2, minmax[1], minmax[2], T])\n",
    "    end\n",
    "    # Backward\n",
    "    cycle = deepcopy(initcycle)\n",
    "    f = cycle.prob.f\n",
    "    while ((pdomain[1] + stepsize) < f.V_c2)\n",
    "        f.V_c2 -= stepsize\n",
    "        u0 = cycle.u[end]\n",
    "        tspan = (0.0, 1.5*T)\n",
    "        cycle = find_cell_cycle(f, u0, tspan; kwargs...)\n",
    "        minmax = extrema(cycle[1, :])\n",
    "        push!(out, [f.V_c2, minmax[1], minmax[2], cycle.t[end] - cycle.t[1]])\n",
    "    end\n",
    "    temp = sort(out, by = x -> x[1])\n",
    "    temp = hcat(temp...)\n",
    "    dict1 = Dict([:min=>temp[2,:], :max=>temp[3,:], :period=>temp[4,:]])\n",
    "    dict2 = OrderedDict(Dict([:V_c2=>temp[1,:], :MPF=>dict1]))\n",
    "    BifurcationCurve(dict2, repeat([\"LC\"], inner=[length(out)]), Dict{String,Any}(), Int[])\n",
    "end"
   ]
  },
  {
   "cell_type": "code",
   "execution_count": 20,
   "metadata": {},
   "outputs": [],
   "source": [
    "# Commented to save computation, load \"CCCMV001_data.jld\"\n",
    "#dtmax = 0.001\n",
    "#curve_lcycle = follow_limit_cycle(cycle, [0.001, 3.469], 0.01; (:dtmax, dtmax))"
   ]
  },
  {
   "cell_type": "code",
   "execution_count": 21,
   "metadata": {
    "scrolled": true
   },
   "outputs": [
    {
     "ename": "LoadError",
     "evalue": "\u001b[91mUndefVarError: @save not defined\u001b[39m",
     "output_type": "error",
     "traceback": [
      "\u001b[91mUndefVarError: @save not defined\u001b[39m",
      "",
      "Stacktrace:",
      " [1] \u001b[1minclude_string\u001b[22m\u001b[22m\u001b[1m(\u001b[22m\u001b[22m::String, ::String\u001b[1m)\u001b[22m\u001b[22m at \u001b[1m./loading.jl:522\u001b[22m\u001b[22m"
     ]
    }
   ],
   "source": [
    "@save \"CCCMV001_data.jld\" curve_stst curve_lcycle"
   ]
  },
  {
   "cell_type": "markdown",
   "metadata": {
    "collapsed": true
   },
   "source": [
    "### Plot bifurcation diagram"
   ]
  },
  {
   "cell_type": "code",
   "execution_count": 22,
   "metadata": {},
   "outputs": [
    {
     "ename": "LoadError",
     "evalue": "\u001b[91mUndefVarError: PlotBifurcation not defined\u001b[39m",
     "output_type": "error",
     "traceback": [
      "\u001b[91mUndefVarError: PlotBifurcation not defined\u001b[39m",
      "",
      "Stacktrace:",
      " [1] \u001b[1minclude_string\u001b[22m\u001b[22m\u001b[1m(\u001b[22m\u001b[22m::String, ::String\u001b[1m)\u001b[22m\u001b[22m at \u001b[1m./loading.jl:522\u001b[22m\u001b[22m"
     ]
    }
   ],
   "source": [
    "PlotBifurcation(curve_stst, (:V_c2, :MPF))\n",
    "PlotBifurcation(curve_lcycle, (:V_c2, :MPF))\n",
    "xlim([0, 6])\n",
    "xlabel(L\"V_{c2}\")\n",
    "ylabel(L\"MPF\")\n",
    "yscale(\"log\")\n",
    "ylim([0.001, 10])\n",
    "title(L\"Bifurcation diagram for $V_{c2}$\")\n",
    "show()"
   ]
  },
  {
   "cell_type": "markdown",
   "metadata": {
    "collapsed": true
   },
   "source": [
    "The stable steady state observed before corresponds to the stable branch of the the saddle-node bifurcation observed here. The bifurcation values is $V_{c2}^*=3.47168339841$."
   ]
  },
  {
   "cell_type": "code",
   "execution_count": 23,
   "metadata": {},
   "outputs": [
    {
     "ename": "LoadError",
     "evalue": "\u001b[91mUndefVarError: curve_stst not defined\u001b[39m",
     "output_type": "error",
     "traceback": [
      "\u001b[91mUndefVarError: curve_stst not defined\u001b[39m",
      "",
      "Stacktrace:",
      " [1] \u001b[1minclude_string\u001b[22m\u001b[22m\u001b[1m(\u001b[22m\u001b[22m::String, ::String\u001b[1m)\u001b[22m\u001b[22m at \u001b[1m./loading.jl:522\u001b[22m\u001b[22m"
     ]
    }
   ],
   "source": [
    "curve_stst.special_points[\"LP\"][1][:V_c2]"
   ]
  },
  {
   "cell_type": "code",
   "execution_count": null,
   "metadata": {
    "collapsed": true
   },
   "outputs": [],
   "source": []
  },
  {
   "cell_type": "code",
   "execution_count": null,
   "metadata": {
    "collapsed": true
   },
   "outputs": [],
   "source": []
  }
 ],
 "metadata": {
  "kernelspec": {
   "display_name": "Julia 0.6.3-pre",
   "language": "julia",
   "name": "julia-0.6"
  },
  "language_info": {
   "file_extension": ".jl",
   "mimetype": "application/julia",
   "name": "julia",
   "version": "0.6.3"
  }
 },
 "nbformat": 4,
 "nbformat_minor": 2
}
