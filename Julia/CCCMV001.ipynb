{
 "cells": [
  {
   "cell_type": "markdown",
   "metadata": {},
   "source": [
    "# Cell cycle model CCCMV001\n",
    "\n",
    "**Cell cycle model (variable mass) for mammalians ver. 001**"
   ]
  },
  {
   "cell_type": "markdown",
   "metadata": {},
   "source": [
    "Packages"
   ]
  },
  {
   "cell_type": "code",
   "execution_count": 1,
   "metadata": {},
   "outputs": [
    {
     "name": "stderr",
     "output_type": "stream",
     "text": [
      "\u001b[1m\u001b[36mINFO: \u001b[39m\u001b[22m\u001b[36mRecompiling stale cache file /home/shigoto/.julia/lib/v0.6/DifferentialEquations.ji for module DifferentialEquations.\n",
      "\u001b[39mWARNING: using LinAlg.Hessenberg in module IterativeSolvers conflicts with an existing identifier.\n",
      "\u001b[1m\u001b[36mINFO: \u001b[39m\u001b[22m\u001b[36mRecompiling stale cache file /home/shigoto/.julia/lib/v0.6/PyDSTool.ji for module PyDSTool.\n",
      "\u001b[39m\u001b[1m\u001b[36mINFO: \u001b[39m\u001b[22m\u001b[36mRecompiling stale cache file /home/shigoto/.julia/lib/v0.6/PyPlot.ji for module PyPlot.\n",
      "\u001b[39m"
     ]
    },
    {
     "ename": "LoadError",
     "evalue": "\u001b[91mArgumentError: Module JLD not found in current path.\nRun `Pkg.add(\"JLD\")` to install the JLD package.\u001b[39m",
     "output_type": "error",
     "traceback": [
      "\u001b[91mArgumentError: Module JLD not found in current path.\nRun `Pkg.add(\"JLD\")` to install the JLD package.\u001b[39m",
      "",
      "Stacktrace:",
      " [1] \u001b[1m_require\u001b[22m\u001b[22m\u001b[1m(\u001b[22m\u001b[22m::Symbol\u001b[1m)\u001b[22m\u001b[22m at \u001b[1m./loading.jl:428\u001b[22m\u001b[22m",
      " [2] \u001b[1mrequire\u001b[22m\u001b[22m\u001b[1m(\u001b[22m\u001b[22m::Symbol\u001b[1m)\u001b[22m\u001b[22m at \u001b[1m./loading.jl:398\u001b[22m\u001b[22m",
      " [3] \u001b[1minclude_string\u001b[22m\u001b[22m\u001b[1m(\u001b[22m\u001b[22m::String, ::String\u001b[1m)\u001b[22m\u001b[22m at \u001b[1m./loading.jl:515\u001b[22m\u001b[22m"
     ]
    }
   ],
   "source": [
    "using DifferentialEquations\n",
    "using PyDSTool, PyCall\n",
    "using PyPlot\n",
    "using JLD"
   ]
  },
  {
   "cell_type": "code",
   "execution_count": 2,
   "metadata": {
    "collapsed": true
   },
   "outputs": [],
   "source": [
    "include(\"custom_functions.jl\");\n",
    "include(\"plot_functions.jl\");"
   ]
  },
  {
   "cell_type": "code",
   "execution_count": 3,
   "metadata": {},
   "outputs": [
    {
     "ename": "LoadError",
     "evalue": "\u001b[91mUndefVarError: @load not defined\u001b[39m",
     "output_type": "error",
     "traceback": [
      "\u001b[91mUndefVarError: @load not defined\u001b[39m",
      "",
      "Stacktrace:",
      " [1] \u001b[1minclude_string\u001b[22m\u001b[22m\u001b[1m(\u001b[22m\u001b[22m::String, ::String\u001b[1m)\u001b[22m\u001b[22m at \u001b[1m./loading.jl:515\u001b[22m\u001b[22m"
     ]
    }
   ],
   "source": [
    "@load \"CCCMV001_data.jld\""
   ]
  },
  {
   "cell_type": "markdown",
   "metadata": {},
   "source": [
    "### Model system of ODE's"
   ]
  },
  {
   "cell_type": "markdown",
   "metadata": {},
   "source": [
    "Model function"
   ]
  },
  {
   "cell_type": "code",
   "execution_count": 4,
   "metadata": {},
   "outputs": [
    {
     "data": {
      "text/plain": [
       "(::CCMMV001) (generic function with 8 methods)"
      ]
     },
     "execution_count": 4,
     "metadata": {},
     "output_type": "execute_result"
    }
   ],
   "source": [
    "f = @ode_def_bare CCMMV001 begin\n",
    "    ## System of ODE (vector field)\n",
    "    dMPF     = k_m0*Mass - (k_m2 + k_m2a*Wee1)*MPF + (k_m1 + k_m1a*Cdc25_P)*MPF_P - (k_m3 + k_m3a*APC_A)*MPF\n",
    "    dMPF_P   = (k_m2 + k_m2a*Wee1)*MPF - (k_m1 + k_m1a*Cdc25_P)*MPF_P - (k_m3 + k_m3a*APC_A)*MPF_P\n",
    "    dWee1    = V_w1*(Wee1_T - Wee1)/(J_w1 + Wee1_T - Wee1) - k_w2*(MPF + MPF_P*α)*Wee1/(J_w2 + Wee1)\n",
    "    dCdc25_P = k_c1*(MPF + MPF_P*α)*(Cdc25_T - Cdc25_P)/(J_c1 + Cdc25_T - Cdc25_P) - V_c2*Cdc25_P/(J_c2 + Cdc25_P)\n",
    "    dIE_A    = k_i1*(MPF + MPF_P*α)*(IE_T - IE_A)/(J_i1 + IE_T - IE_A) - V_i2*IE_A/(J_i2 + IE_A)\n",
    "    dAPC_A   = k_a1*IE_A*(APC_T - APC_A)/(J_a1 + APC_T - APC_A) - V_a2*APC_A/(J_a2 + APC_A)\n",
    "    dMass    = μ*Mass*(1 - Mass/K_Mass)\n",
    "end k_m0=>0.2 k_m1=0.4 k_m1a=20.0 k_m2=0.4 k_m2a=50.0 k_m3=0.2 k_m3a=6.35 V_w1=1.0 k_w2=5.3 J_w1=0.01 J_w2=0.01 k_c1=8.5 V_c2=>1.4 k_c2a=2.2 J_c1=0.01 J_c2=0.01 k_i1=1.7 V_i2=0.4 J_i1=0.001 J_i2=0.001 k_a1=6.8 V_a2=1.7 J_a1=0.001 J_a2=0.001 α=0.05 μ=0.07 K_Mass=2.7 Wee1_T=1.0 Cdc25_T=1.0 IE_T=1.0 APC_T=1.0 Chk2_T=1.0 theta_M=>0.2"
   ]
  },
  {
   "cell_type": "markdown",
   "metadata": {},
   "source": [
    "Cell division events"
   ]
  },
  {
   "cell_type": "code",
   "execution_count": 5,
   "metadata": {},
   "outputs": [
    {
     "data": {
      "text/plain": [
       "DiffEqBase.ContinuousCallback{#division,Void,#division_event!,DiffEqBase.#INITIALIZE_DEFAULT,Float64,Int64,Void}(division, nothing, division_event!, DiffEqBase.INITIALIZE_DEFAULT, nothing, true, 10, (true, false), 1.0e-9, 0)"
      ]
     },
     "execution_count": 5,
     "metadata": {},
     "output_type": "execute_result"
    }
   ],
   "source": [
    "function division(t,u,integrator)\n",
    "    ## Parameters\n",
    "    ## Set of condition: MPF crosses threshold from positive to negative\n",
    "    u[1] - f.theta_M\n",
    "end # ModelCond\n",
    "\n",
    "function division_event!(integrator)\n",
    "    # Divide mass in two\n",
    "    integrator.u[7] = integrator.u[7]/2\n",
    "end # ModelEvent!\n",
    "\n",
    "cb = ContinuousCallback(division, nothing, division_event!, save_positions=(true,false))"
   ]
  },
  {
   "cell_type": "markdown",
   "metadata": {},
   "source": [
    "### Important solutions"
   ]
  },
  {
   "cell_type": "markdown",
   "metadata": {},
   "source": [
    "**Cell cycle**. Initial conditions and parameter options for normal cell cycle."
   ]
  },
  {
   "cell_type": "code",
   "execution_count": 6,
   "metadata": {
    "collapsed": true
   },
   "outputs": [],
   "source": [
    "f.V_c2 = 1.4\n",
    "u0 = [0.039,      # MPF\n",
    "      1.660,      # MPF_P\n",
    "      0.982,      # Wee1\n",
    "      0.027,      # Cdc25_P\n",
    "      0.001,      # IE_A\n",
    "      0.000,      # APC_A\n",
    "      1.938]      # Mass\n",
    "tspan = (0.0, 28.0)\n",
    "dtmax = 0.001\n",
    "alg = Rosenbrock23()\n",
    "prob = ODEProblem(f, u0, tspan)\n",
    "sol = solve(prob, alg, callback=cb; (:dtmax, dtmax))\n",
    "sol.errors"
   ]
  },
  {
   "cell_type": "code",
   "execution_count": 7,
   "metadata": {},
   "outputs": [
    {
     "data": {
      "text/plain": [
       "retcode: Success\n",
       "Interpolation: specialized 2nd order \"free\" stiffness-aware interpolation\n",
       "t: 28009-element Array{Float64,1}:\n",
       "  0.0        \n",
       "  4.81181e-5 \n",
       "  0.000308649\n",
       "  0.000581942\n",
       "  0.0012293  \n",
       "  0.00203227 \n",
       "  0.00303227 \n",
       "  0.00403227 \n",
       "  0.00503227 \n",
       "  0.00603227 \n",
       "  0.00703227 \n",
       "  0.00803227 \n",
       "  0.00903227 \n",
       "  ⋮          \n",
       " 27.9898     \n",
       " 27.9908     \n",
       " 27.9918     \n",
       " 27.9928     \n",
       " 27.9938     \n",
       " 27.9948     \n",
       " 27.9958     \n",
       " 27.9968     \n",
       " 27.9978     \n",
       " 27.9988     \n",
       " 27.9998     \n",
       " 28.0        \n",
       "u: 28009-element Array{Array{Float64,1},1}:\n",
       " [0.039, 1.66, 0.982, 0.027, 0.001, 0.0, 1.938]                            \n",
       " [0.0390005, 1.66, 0.982, 0.0270002, 0.00100035, 3.14003e-7, 1.938]        \n",
       " [0.039003, 1.66001, 0.982001, 0.0270015, 0.00100219, 1.64258e-6, 1.93801] \n",
       " [0.0390056, 1.66002, 0.982002, 0.0270028, 0.00100407, 2.52992e-6, 1.93802]\n",
       " [0.0390117, 1.66005, 0.982003, 0.027006, 0.00100834, 3.56418e-6, 1.93805] \n",
       " [0.0390191, 1.66008, 0.982005, 0.0270099, 0.00101327, 3.94584e-6, 1.93808]\n",
       " [0.0390282, 1.66012, 0.982008, 0.0270149, 0.00101892, 4.06048e-6, 1.93812]\n",
       " [0.039037, 1.66016, 0.98201, 0.0270198, 0.00102405, 4.09462e-6, 1.93815]  \n",
       " [0.0390455, 1.66019, 0.982013, 0.0270249, 0.00102872, 4.1162e-6, 1.93819] \n",
       " [0.0390539, 1.66023, 0.982015, 0.0270299, 0.00103297, 4.13458e-6, 1.93823]\n",
       " [0.039062, 1.66027, 0.982017, 0.027035, 0.00103685, 4.15115e-6, 1.93827]  \n",
       " [0.03907, 1.66031, 0.982019, 0.0270401, 0.00104039, 4.16623e-6, 1.93831]  \n",
       " [0.0390778, 1.66035, 0.982021, 0.0270453, 0.00104362, 4.18e-6, 1.93835]   \n",
       " ⋮                                                                         \n",
       " [0.0196104, 0.0194208, 0.358498, 0.543483, 0.849835, 0.999584, 1.05792]   \n",
       " [0.0195532, 0.0194342, 0.359377, 0.54228, 0.84947, 0.999584, 1.05796]     \n",
       " [0.0194963, 0.0194476, 0.360256, 0.541075, 0.849105, 0.999583, 1.05801]   \n",
       " [0.0194396, 0.019461, 0.361135, 0.539871, 0.84874, 0.999583, 1.05805]     \n",
       " [0.0193832, 0.0194745, 0.362015, 0.538666, 0.848375, 0.999583, 1.0581]    \n",
       " [0.019327, 0.019488, 0.362894, 0.537461, 0.848009, 0.999583, 1.05814]     \n",
       " [0.0192711, 0.0195016, 0.363774, 0.536255, 0.847644, 0.999582, 1.05819]   \n",
       " [0.0192154, 0.0195152, 0.364654, 0.535049, 0.847279, 0.999582, 1.05823]   \n",
       " [0.01916, 0.0195289, 0.365535, 0.533842, 0.846913, 0.999582, 1.05828]     \n",
       " [0.0191048, 0.0195425, 0.366416, 0.532636, 0.846548, 0.999582, 1.05832]   \n",
       " [0.0190498, 0.0195563, 0.367297, 0.531428, 0.846182, 0.999581, 1.05837]   \n",
       " [0.0190396, 0.0195588, 0.367461, 0.531202, 0.846114, 0.999581, 1.05838]   "
      ]
     },
     "execution_count": 7,
     "metadata": {},
     "output_type": "execute_result"
    }
   ],
   "source": [
    "sol"
   ]
  },
  {
   "cell_type": "code",
   "execution_count": null,
   "metadata": {
    "collapsed": true
   },
   "outputs": [],
   "source": []
  },
  {
   "cell_type": "code",
   "execution_count": null,
   "metadata": {
    "collapsed": true
   },
   "outputs": [],
   "source": []
  },
  {
   "cell_type": "code",
   "execution_count": null,
   "metadata": {
    "collapsed": true
   },
   "outputs": [],
   "source": []
  },
  {
   "cell_type": "code",
   "execution_count": null,
   "metadata": {
    "collapsed": true
   },
   "outputs": [],
   "source": []
  },
  {
   "cell_type": "code",
   "execution_count": null,
   "metadata": {
    "collapsed": true
   },
   "outputs": [],
   "source": []
  },
  {
   "cell_type": "code",
   "execution_count": 7,
   "metadata": {},
   "outputs": [
    {
     "data": {
      "image/png": "[encoded data removed]",
      "text/plain": [
       "PyPlot.Figure(PyObject <matplotlib.figure.Figure object at 0x7f6ed697b210>)"
      ]
     },
     "metadata": {},
     "output_type": "display_data"
    },
    {
     "data": {
      "text/plain": [
       "PyObject <matplotlib.legend.Legend object at 0x7f6f04e7afd0>"
      ]
     },
     "execution_count": 7,
     "metadata": {},
     "output_type": "execute_result"
    }
   ],
   "source": [
    "plot(sol.t, sol.u, lw=2)\n",
    "legend(labels=[\"MPF\",\"MPF_P\"])"
   ]
  },
  {
   "cell_type": "markdown",
   "metadata": {
    "collapsed": true
   },
   "source": [
    "**Steady state**. Changing $V_{c2}$ to 4.0. This moves the dynamics to checkpoint, i.e., steady state solution."
   ]
  },
  {
   "cell_type": "code",
   "execution_count": 8,
   "metadata": {
    "collapsed": true
   },
   "outputs": [],
   "source": [
    "f.V_c2 = 4.0\n",
    "u0 = [0.042,      # MPF\n",
    "      2.656,      # MPF_P\n",
    "      0.886,      # Wee1\n",
    "      0.005,      # Cdc25_P\n",
    "      0.002,      # IE_A\n",
    "      0.000,      # APC_A\n",
    "      2.699]      # Mass\n",
    "tspan=(0.0, 20.0)\n",
    "prob = ODEProblem(f, u0, tspan)\n",
    "dtmax = 0.1\n",
    "sol = solve(prob, alg, callback=cb; (:dtmax, dtmax))\n",
    "sol.errors"
   ]
  },
  {
   "cell_type": "code",
   "execution_count": 9,
   "metadata": {},
   "outputs": [
    {
     "data": {
      "image/png": "[encoded data removed]",
      "text/plain": [
       "PyPlot.Figure(PyObject <matplotlib.figure.Figure object at 0x7f6ed18d4c90>)"
      ]
     },
     "metadata": {},
     "output_type": "display_data"
    },
    {
     "data": {
      "text/plain": [
       "PyObject <matplotlib.legend.Legend object at 0x7f6ed1c56dd0>"
      ]
     },
     "execution_count": 9,
     "metadata": {},
     "output_type": "execute_result"
    }
   ],
   "source": [
    "plot(sol.t, sol.u, lw=2)\n",
    "legend(labels=[\"MPF\",\"MPF_P\"])"
   ]
  },
  {
   "cell_type": "markdown",
   "metadata": {},
   "source": [
    "Value of solution at the stady state for $V_{c2}$"
   ]
  },
  {
   "cell_type": "code",
   "execution_count": 10,
   "metadata": {},
   "outputs": [
    {
     "data": {
      "text/plain": [
       "7-element Array{Float64,1}:\n",
       " 0.0425949 \n",
       " 2.65603   \n",
       " 0.886232  \n",
       " 0.00584799\n",
       " 0.00291675\n",
       " 1.17928e-5\n",
       " 2.69975   "
      ]
     },
     "execution_count": 10,
     "metadata": {},
     "output_type": "execute_result"
    }
   ],
   "source": [
    "sol.u[end]"
   ]
  },
  {
   "cell_type": "markdown",
   "metadata": {},
   "source": [
    "### Find limit cycle"
   ]
  },
  {
   "cell_type": "markdown",
   "metadata": {},
   "source": [
    "Functions"
   ]
  },
  {
   "cell_type": "code",
   "execution_count": 11,
   "metadata": {},
   "outputs": [
    {
     "data": {
      "text/plain": [
       "find_cell_cycle (generic function with 1 method)"
      ]
     },
     "execution_count": 11,
     "metadata": {},
     "output_type": "execute_result"
    }
   ],
   "source": [
    "function find_cell_cycle(f, u0, tspan; alg=Rosenbrock23(), kwargs...)\n",
    "    function division_stop!(integrator)\n",
    "        integrator.u[7] = integrator.u[7]/2\n",
    "        terminate!(integrator)\n",
    "    end\n",
    "    cb_start = ContinuousCallback(division, nothing, division_stop!)\n",
    "    # Integrate until first division\n",
    "    # NOTE: assert tspan is larger than needed\n",
    "    prob = ODEProblem(f, u0, tspan)\n",
    "    sol = solve(prob, alg, callback=cb_start; kwargs...)\n",
    "    # One full cycle\n",
    "    u0_start = sol.u[end]\n",
    "    prob = ODEProblem(f, u0_start, tspan)\n",
    "    sol = solve(prob, alg, callback=cb_start; kwargs...)\n",
    "    # Done\n",
    "    sol\n",
    "end #function find_cell_cycle"
   ]
  },
  {
   "cell_type": "markdown",
   "metadata": {},
   "source": [
    "A full limit cycle starts and finishes on cell division (when MPF concentration drops bellow 0.2)."
   ]
  },
  {
   "cell_type": "code",
   "execution_count": 12,
   "metadata": {
    "collapsed": true
   },
   "outputs": [],
   "source": [
    "f.V_c2 = 1.6\n",
    "u0 = [0.039,      # MPF\n",
    "      1.660,      # MPF_P\n",
    "      0.982,      # Wee1\n",
    "      0.027,      # Cdc25_P\n",
    "      0.001,      # IE_A\n",
    "      0.000,      # APC_A\n",
    "      1.938]      # Mass\n",
    "tspan = (0.0, 28.0)\n",
    "dtmax = 0.001\n",
    "sol = find_cell_cycle(f, u0, tspan; (:dtmax, dtmax))\n",
    "cycle = sol\n",
    "sol.errors"
   ]
  },
  {
   "cell_type": "code",
   "execution_count": 13,
   "metadata": {},
   "outputs": [
    {
     "data": {
      "image/png": "[encoded data removed]",
      "text/plain": [
       "PyPlot.Figure(PyObject <matplotlib.figure.Figure object at 0x7f6ed1c8b950>)"
      ]
     },
     "metadata": {},
     "output_type": "display_data"
    },
    {
     "data": {
      "text/plain": [
       "7-element Array{PyCall.PyObject,1}:\n",
       " PyObject <matplotlib.lines.Line2D object at 0x7f6ecf5d5290>\n",
       " PyObject <matplotlib.lines.Line2D object at 0x7f6ecf5d5490>\n",
       " PyObject <matplotlib.lines.Line2D object at 0x7f6ecf5d55d0>\n",
       " PyObject <matplotlib.lines.Line2D object at 0x7f6ecf5d5710>\n",
       " PyObject <matplotlib.lines.Line2D object at 0x7f6ecf5d5850>\n",
       " PyObject <matplotlib.lines.Line2D object at 0x7f6ecf5d5990>\n",
       " PyObject <matplotlib.lines.Line2D object at 0x7f6ecf5d5ad0>"
      ]
     },
     "execution_count": 13,
     "metadata": {},
     "output_type": "execute_result"
    }
   ],
   "source": [
    "plot(sol.t, sol.u, lw=2)"
   ]
  },
  {
   "cell_type": "markdown",
   "metadata": {},
   "source": [
    "Period"
   ]
  },
  {
   "cell_type": "code",
   "execution_count": 14,
   "metadata": {},
   "outputs": [
    {
     "data": {
      "text/html": [
       "27.74965762139642"
      ],
      "text/plain": [
       "27.74965762139642"
      ]
     },
     "execution_count": 14,
     "metadata": {},
     "output_type": "execute_result"
    }
   ],
   "source": [
    "sol.t[end]-sol.t[1]"
   ]
  },
  {
   "cell_type": "code",
   "execution_count": null,
   "metadata": {
    "collapsed": true
   },
   "outputs": [],
   "source": []
  },
  {
   "cell_type": "markdown",
   "metadata": {},
   "source": [
    "## Bifurcation"
   ]
  },
  {
   "cell_type": "markdown",
   "metadata": {},
   "source": [
    "**Stable node and saddle point (saddle-node branch of the SNIC)**"
   ]
  },
  {
   "cell_type": "code",
   "execution_count": 15,
   "metadata": {},
   "outputs": [
    {
     "data": {
      "text/plain": [
       "PyObject ContClass of model CCMMV001"
      ]
     },
     "execution_count": 15,
     "metadata": {},
     "output_type": "execute_result"
    }
   ],
   "source": [
    "u0 = [0.0425188,\n",
    "      2.65499,\n",
    "      0.887348,\n",
    "      0.00584123,\n",
    "      0.00290841,\n",
    "      1.17587e-5,\n",
    "      2.69903]\n",
    "tspan = [0, 40]\n",
    "dsargs = build_ode(f,u0,tspan)\n",
    "dsargs[:pdomain] = Dict(\"V_c2\"=>[0, 6])\n",
    "ode = ds[:Generator][:Vode_ODEsystem](dsargs)\n",
    "ode[:set](pars = Dict(\"V_c2\"=>4.0))\n",
    "PC = ds[:ContClass](ode)"
   ]
  },
  {
   "cell_type": "code",
   "execution_count": 16,
   "metadata": {
    "collapsed": true
   },
   "outputs": [],
   "source": [
    "name1 = \"EQ1\"\n",
    "PCargs = ds[:args](name = name1)\n",
    "PCargs[:type] = \"EP-C\"\n",
    "PCargs[:freepars] = [\"V_c2\"]\n",
    "PCargs[:MaxNumPoints] = 100\n",
    "PCargs[:MaxStepSize] = 1e-0\n",
    "PCargs[:MinStepSize] = 1e-5\n",
    "PCargs[:StepSize] = 1e-2\n",
    "PCargs[:LocBifPoints] = \"all\"\n",
    "PCargs[:SaveEigen] = true\n",
    "PCargs[:verbosity] = 2\n",
    "PCargs[:StopAtPoints] = [\"B\"]\n",
    "PC[:newCurve](PCargs)"
   ]
  },
  {
   "cell_type": "code",
   "execution_count": 17,
   "metadata": {},
   "outputs": [
    {
     "name": "stdout",
     "output_type": "stream",
     "text": [
      "B Point found \n",
      "========================== \n",
      "0 : \n",
      "MPF  =  0.0384024845866\n",
      "Cdc25_P  =  0.00316578678604\n",
      "IE_A  =  0.00267476107814\n",
      "APC_A  =  1.08038310317e-05\n",
      "Mass  =  2.7\n",
      "MPF_P  =  2.66067167458\n",
      "Wee1  =  0.91123631605\n",
      "V_c2  =  5.99999999343\n",
      "\n",
      "\n",
      "Checking...\n",
      "  |q| = 1.000000\n",
      "  <p,q> = 1.000000\n",
      "  |Aq| = 0.000000\n",
      "  |transpose(A)p| = 0.000000\n",
      "\n",
      "LP Point found \n",
      "========================== \n",
      "0 : \n",
      "MPF  =  0.0480443726112\n",
      "Cdc25_P  =  0.00778503044489\n",
      "IE_A  =  0.00328664964095\n",
      "APC_A  =  1.33082483368e-05\n",
      "Mass  =  2.7\n",
      "MPF_P  =  2.65081525965\n",
      "Wee1  =  0.825998493621\n",
      "V_c2  =  3.47168339841\n",
      "\n",
      "Eigenvalues = \n",
      "\n",
      "     (-1655.641088,0.000000)\n",
      "     (-115.576535,0.000000)\n",
      "     (0.000000,0.000000)\n",
      "     (-0.199879,0.000000)\n",
      "     (-36.960787,0.000000)\n",
      "     (-21.768176,0.000000)\n",
      "     (-0.070000,0.000000)\n",
      "\n",
      "\n",
      "a = 1.9720267296277629\n",
      "\n",
      "Maximum test function iterations reached.\n",
      "\n",
      "Neutral saddle found!\n",
      "\n",
      "B Point found \n",
      "========================== \n",
      "0 : \n",
      "MPF  =  0.0540606487635\n",
      "Cdc25_P  =  0.00353713523247\n",
      "IE_A  =  0.00378346260253\n",
      "APC_A  =  1.53508163159e-05\n",
      "Mass  =  2.7\n",
      "MPF_P  =  2.64462404357\n",
      "Wee1  =  0.648344352564\n",
      "V_c2  =  5.99999999097\n",
      "\n"
     ]
    }
   ],
   "source": [
    "# Commented to save computation, load \"CCCMV001_data.jld\"\n",
    "#PC[:curves][name1][:backward]()\n",
    "#PC[:curves][name1][:forward]()\n",
    "#curve_stst = bifurcation_curve_ccc(PC, \"EQ1\");"
   ]
  },
  {
   "cell_type": "code",
   "execution_count": null,
   "metadata": {
    "collapsed": true
   },
   "outputs": [],
   "source": []
  },
  {
   "cell_type": "code",
   "execution_count": null,
   "metadata": {
    "collapsed": true
   },
   "outputs": [],
   "source": []
  },
  {
   "cell_type": "markdown",
   "metadata": {},
   "source": [
    "**Limit cycle (oscilatory part of the SNIC)**"
   ]
  },
  {
   "cell_type": "markdown",
   "metadata": {},
   "source": [
    "Now we follow the limit cycle"
   ]
  },
  {
   "cell_type": "code",
   "execution_count": 18,
   "metadata": {},
   "outputs": [
    {
     "data": {
      "text/plain": [
       "follow_limit_cycle (generic function with 1 method)"
      ]
     },
     "execution_count": 18,
     "metadata": {},
     "output_type": "execute_result"
    }
   ],
   "source": [
    "function follow_limit_cycle(initcycle, pdomain, stepsize; kwargs...)\n",
    "    cycle = deepcopy(initcycle)\n",
    "    f = cycle.prob.f\n",
    "    # Start\n",
    "    minmax = extrema(cycle[1, :])\n",
    "    T = cycle.t[end] - cycle.t[1]\n",
    "    out = [[f.V_c2, minmax[1], minmax[2], T]]\n",
    "    # Forward\n",
    "    while (f.V_c2 < (pdomain[2] - stepsize))\n",
    "        f.V_c2 += stepsize\n",
    "        u0 = cycle.u[end]\n",
    "        tspan = (0.0, 1.3*T)\n",
    "        cycle = find_cell_cycle(f, u0, tspan; kwargs...)\n",
    "        minmax = extrema(cycle[1, :])\n",
    "        T = cycle.t[end] - cycle.t[1]\n",
    "        push!(out, [f.V_c2, minmax[1], minmax[2], T])\n",
    "    end\n",
    "    # Backward\n",
    "    cycle = deepcopy(initcycle)\n",
    "    f = cycle.prob.f\n",
    "    while ((pdomain[1] + stepsize) < f.V_c2)\n",
    "        f.V_c2 -= stepsize\n",
    "        u0 = cycle.u[end]\n",
    "        tspan = (0.0, 1.5*T)\n",
    "        cycle = find_cell_cycle(f, u0, tspan; kwargs...)\n",
    "        minmax = extrema(cycle[1, :])\n",
    "        push!(out, [f.V_c2, minmax[1], minmax[2], cycle.t[end] - cycle.t[1]])\n",
    "    end\n",
    "    temp = sort(out, by = x -> x[1])\n",
    "    temp = hcat(temp...)\n",
    "    dict1 = Dict([:min=>temp[2,:], :max=>temp[3,:], :period=>temp[4,:]])\n",
    "    dict2 = OrderedDict(Dict([:V_c2=>temp[1,:], :MPF=>dict1]))\n",
    "    BifurcationCurve(dict2, repeat([\"LC\"], inner=[length(out)]), Dict{String,Any}(), Int[])\n",
    "end"
   ]
  },
  {
   "cell_type": "code",
   "execution_count": 19,
   "metadata": {},
   "outputs": [
    {
     "data": {
      "text/plain": [
       "BifurcationCurve{DataStructures.OrderedDict{Symbol,Any},Dict{String,Any}}(DataStructures.OrderedDict{Symbol,Any}(:MPF=>Dict(:max=>[0.624069, 0.624086, 0.624104, 0.624122, 0.62414, 0.624158, 0.624176, 0.624195, 0.624214, 0.624233  …  2.44564, 2.44538, 2.44513, 2.44484, 2.44456, 2.44426, 2.44395, 2.44363, 2.44329, 2.44296],:period=>[13.0636, 13.0637, 13.0638, 13.0639, 13.064, 13.0641, 13.0642, 13.0644, 13.0645, 13.0646  …  131.388, 134.887, 138.886, 143.538, 149.081, 155.898, 164.664, 176.731, 195.385, 232.203],:min=>[0.00557844, 0.00557135, 0.00556249, 0.00555186, 0.00553957, 0.00552575, 0.00551058, 0.00549422, 0.00547681, 0.00545846  …  0.00522114, 0.00522122, 0.00522129, 0.00522135, 0.00522139, 0.00522142, 0.00522144, 0.00522144, 0.00522143, 0.00522141]),:V_c2=>[0.01, 0.02, 0.03, 0.04, 0.05, 0.06, 0.07, 0.08, 0.09, 0.1  …  3.37, 3.38, 3.39, 3.4, 3.41, 3.42, 3.43, 3.44, 3.45, 3.46]), String[\"LC\", \"LC\", \"LC\", \"LC\", \"LC\", \"LC\", \"LC\", \"LC\", \"LC\", \"LC\"  …  \"LC\", \"LC\", \"LC\", \"LC\", \"LC\", \"LC\", \"LC\", \"LC\", \"LC\", \"LC\"], Dict{String,Any}(), Int64[])"
      ]
     },
     "execution_count": 19,
     "metadata": {},
     "output_type": "execute_result"
    }
   ],
   "source": [
    "# Commented to save computation, load \"CCCMV001_data.jld\"\n",
    "#dtmax = 0.001\n",
    "#curve_lcycle = follow_limit_cycle(cycle, [0.001, 3.469], 0.01; (:dtmax, dtmax))"
   ]
  },
  {
   "cell_type": "code",
   "execution_count": 20,
   "metadata": {
    "collapsed": true,
    "scrolled": true
   },
   "outputs": [],
   "source": [
    "@save \"CCCMV001_data.jld\" curve_stst curve_lcycle"
   ]
  },
  {
   "cell_type": "markdown",
   "metadata": {
    "collapsed": true
   },
   "source": [
    "### Plot bifurcation diagram"
   ]
  },
  {
   "cell_type": "code",
   "execution_count": 21,
   "metadata": {},
   "outputs": [
    {
     "data": {
      "image/png": "[encoded data removed]",
      "text/plain": [
       "PyPlot.Figure(PyObject <matplotlib.figure.Figure object at 0x7f6ecf59eb50>)"
      ]
     },
     "metadata": {},
     "output_type": "display_data"
    }
   ],
   "source": [
    "PlotBifurcation(curve_stst, (:V_c2, :MPF))\n",
    "PlotBifurcation(curve_lcycle, (:V_c2, :MPF))\n",
    "xlim([0, 6])\n",
    "xlabel(L\"V_{c2}\")\n",
    "ylabel(L\"MPF\")\n",
    "yscale(\"log\")\n",
    "ylim([0.001, 10])\n",
    "title(L\"Bifurcation diagram for $V_{c2}$\")\n",
    "show()"
   ]
  },
  {
   "cell_type": "markdown",
   "metadata": {
    "collapsed": true
   },
   "source": [
    "The stable steady state observed before corresponds to the stable branch of the the saddle-node bifurcation observed here. The bifurcation values is $V_{c2}^*=3.47168339841$."
   ]
  },
  {
   "cell_type": "code",
   "execution_count": 22,
   "metadata": {},
   "outputs": [
    {
     "data": {
      "text/html": [
       "3.471683398405677"
      ],
      "text/plain": [
       "3.471683398405677"
      ]
     },
     "execution_count": 22,
     "metadata": {},
     "output_type": "execute_result"
    }
   ],
   "source": [
    "curve_stst.special_points[\"LP\"][1][:V_c2]"
   ]
  },
  {
   "cell_type": "code",
   "execution_count": null,
   "metadata": {
    "collapsed": true
   },
   "outputs": [],
   "source": []
  },
  {
   "cell_type": "code",
   "execution_count": null,
   "metadata": {
    "collapsed": true
   },
   "outputs": [],
   "source": []
  }
 ],
 "metadata": {
  "kernelspec": {
   "display_name": "Julia 0.6.1-pre",
   "language": "julia",
   "name": "julia-0.6"
  },
  "language_info": {
   "file_extension": ".jl",
   "mimetype": "application/julia",
   "name": "julia",
   "version": "0.6.2"
  }
 },
 "nbformat": 4,
 "nbformat_minor": 2
}
